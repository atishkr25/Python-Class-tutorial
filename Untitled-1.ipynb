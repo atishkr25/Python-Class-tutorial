{
 "cells": [
  {
   "cell_type": "markdown",
   "metadata": {},
   "source": [
    "kuch v likh sakte hai kya ispe?\n",
    "\n",
    " Tasks:->\n",
    "\n",
    "1. add 202 to all values in the given array\n",
    "2. generate a 1 D arr of 10 random integers each integer should be a num bw 30 & 40 (inclusive)\n",
    "3. extract the 1st 4 columns of this 2D arr  = x= np.arange(100).reshape(5,-1)\n",
    "4. "
   ]
  },
  {
   "cell_type": "code",
   "execution_count": null,
   "metadata": {},
   "outputs": [],
   "source": [
    "import numpy as np\n",
    "x = np.array([2,-1,0,1,2])\n",
    "np.absolute(x)\n",
    "print(x)\n",
    "\n",
    "\n",
    "x = [1,2,3]\n",
    "print(np.exp(x))\n",
    "\n",
    "print(\"__\"*20)\n",
    "#creating an array using arange functin\n",
    "x = np.arange(5)\n",
    "print(x)"
   ]
  }
 ],
 "metadata": {
  "language_info": {
   "name": "python"
  }
 },
 "nbformat": 4,
 "nbformat_minor": 2
}
